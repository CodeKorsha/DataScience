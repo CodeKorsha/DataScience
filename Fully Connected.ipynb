{
 "cells": [
  {
   "cell_type": "markdown",
   "metadata": {},
   "source": [
    "#### Import Required Libraries"
   ]
  },
  {
   "cell_type": "code",
   "execution_count": 1,
   "metadata": {
    "id": "moSlytAArn5W"
   },
   "outputs": [],
   "source": [
    "import torch\n",
    "import torch.nn as nn\n",
    "import torch.nn.functional as F \n",
    "from torchvision import datasets, transforms\n",
    "from torch.utils.data import DataLoader\n",
    "from sklearn.metrics import confusion_matrix\n",
    "import matplotlib.pyplot as plt\n",
    "import numpy as np"
   ]
  },
  {
   "cell_type": "markdown",
   "metadata": {},
   "source": [
    "#### Load Data"
   ]
  },
  {
   "cell_type": "code",
   "execution_count": 2,
   "metadata": {
    "colab": {
     "base_uri": "https://localhost:8080/",
     "height": 117,
     "referenced_widgets": [
      "ce651790027449f5a1dffdbad14b8eff",
      "b087d5ed3d024579b0efd5578bc21ff1",
      "4c5d7c15d85d48de87a8801dcc93a878",
      "73bc7bcbaade4a16847263246d34d23e",
      "20cd7da2e842465db26bda89c7b8db47",
      "83135c37447947cbbeb35701fa22c130",
      "dcf47c0ed0f84097a69daa8f733ecee5",
      "4a444cf5260d490684c4c7d247c790cf"
     ]
    },
    "id": "AkSNLVENr5k1",
    "outputId": "cb5601a0-baca-4fd7-eeed-d4db083b7f48"
   },
   "outputs": [
    {
     "name": "stdout",
     "output_type": "stream",
     "text": [
      "Downloading https://www.cs.toronto.edu/~kriz/cifar-10-python.tar.gz to dataset/cifar-10-python.tar.gz\n"
     ]
    },
    {
     "data": {
      "application/vnd.jupyter.widget-view+json": {
       "model_id": "ce651790027449f5a1dffdbad14b8eff",
       "version_major": 2,
       "version_minor": 0
      },
      "text/plain": [
       "HBox(children=(FloatProgress(value=0.0, max=170498071.0), HTML(value='')))"
      ]
     },
     "metadata": {
      "tags": []
     },
     "output_type": "display_data"
    },
    {
     "name": "stdout",
     "output_type": "stream",
     "text": [
      "\n",
      "Extracting dataset/cifar-10-python.tar.gz to dataset/\n",
      "Files already downloaded and verified\n"
     ]
    }
   ],
   "source": [
    "\n",
    "transform = transforms.Compose([transforms.ToTensor(),\n",
    "                                transforms.Normalize((0.5, 0.5, 0.5), (0.5, 0.5, 0.5))]) #transform & normalize data\n",
    "train_dataset = datasets.CIFAR10(root='dataset/', train=True, transform=transforms.ToTensor(), download=True)\n",
    "test_dataset = datasets.CIFAR10(root='dataset/', train=False, transform=transforms.ToTensor(), download=True)\n",
    "train_loader = DataLoader(train_dataset, batch_size=100, shuffle=True)\n",
    "test_loader = DataLoader(test_dataset, batch_size=500, shuffle=False)"
   ]
  },
  {
   "cell_type": "markdown",
   "metadata": {},
   "source": [
    "#### Set Classes"
   ]
  },
  {
   "cell_type": "code",
   "execution_count": 3,
   "metadata": {
    "id": "CLhHlNxltk6A"
   },
   "outputs": [],
   "source": [
    "classes = ('plane', 'car', 'bird', 'cat',\n",
    "           'deer', 'dog', 'frog', 'horse', 'ship', 'truck') #set classes"
   ]
  },
  {
   "cell_type": "markdown",
   "metadata": {},
   "source": [
    "#### Show sample"
   ]
  },
  {
   "cell_type": "code",
   "execution_count": 4,
   "metadata": {
    "colab": {
     "base_uri": "https://localhost:8080/",
     "height": 283
    },
    "id": "QtmzRe4RtsgB",
    "outputId": "4cddf719-a91d-4f00-ede1-8e6f05b62580"
   },
   "outputs": [
    {
     "data": {
      "text/plain": [
       "<matplotlib.image.AxesImage at 0x7f7ff31b0410>"
      ]
     },
     "execution_count": 4,
     "metadata": {
      "tags": []
     },
     "output_type": "execute_result"
    },
    {
     "data": {
      "image/png": "[encoded data removed]",
      "text/plain": [
       "<Figure size 432x288 with 1 Axes>"
      ]
     },
     "metadata": {
      "needs_background": "light",
      "tags": []
     },
     "output_type": "display_data"
    }
   ],
   "source": [
    "image, label = train_dataset[5]\n",
    "plt.imshow(image.permute(1, 2, 0))"
   ]
  },
  {
   "cell_type": "markdown",
   "metadata": {},
   "source": [
    "#### Fully Connected NN"
   ]
  },
  {
   "cell_type": "code",
   "execution_count": 5,
   "metadata": {
    "id": "vAkX2E_2stCX"
   },
   "outputs": [],
   "source": [
    "class FNN(nn.Module):\n",
    "  def __init__(self, input_size=32*32*3, output_size=10):\n",
    "        super().__init__()\n",
    "        self.fc1 = nn.Linear(input_size, 120)\n",
    "        self.fc2 = nn.Linear(120, 84)\n",
    "        self.fc3 = nn.Linear(84, output_size)\n",
    "\n",
    "  def forward(self, X):\n",
    "        X = F.relu(self.fc1(X))\n",
    "        X = F.relu(self.fc2(X))\n",
    "        X = self.fc3(X)\n",
    "\n",
    "        return F.log_softmax(X, dim=1)"
   ]
  },
  {
   "cell_type": "code",
   "execution_count": 6,
   "metadata": {
    "colab": {
     "base_uri": "https://localhost:8080/"
    },
    "id": "Uuz1nLVItR-W",
    "outputId": "2975d476-f540-40db-e599-c3b6763d8968"
   },
   "outputs": [
    {
     "data": {
      "text/plain": [
       "FNN(\n",
       "  (fc1): Linear(in_features=3072, out_features=120, bias=True)\n",
       "  (fc2): Linear(in_features=120, out_features=84, bias=True)\n",
       "  (fc3): Linear(in_features=84, out_features=10, bias=True)\n",
       ")"
      ]
     },
     "execution_count": 6,
     "metadata": {
      "tags": []
     },
     "output_type": "execute_result"
    }
   ],
   "source": [
    "torch.manual_seed(80)\n",
    "model = FNN()\n",
    "model"
   ]
  },
  {
   "cell_type": "markdown",
   "metadata": {},
   "source": [
    "####  Loss and Optimizer"
   ]
  },
  {
   "cell_type": "code",
   "execution_count": 7,
   "metadata": {
    "id": "Hgfk1_Syue3q"
   },
   "outputs": [],
   "source": [
    "criterion = nn.CrossEntropyLoss()\n",
    "optimizer = torch.optim.SGD(model.parameters(), lr=0.001)"
   ]
  },
  {
   "cell_type": "markdown",
   "metadata": {},
   "source": [
    "#### Train Model"
   ]
  },
  {
   "cell_type": "code",
   "execution_count": 8,
   "metadata": {
    "colab": {
     "base_uri": "https://localhost:8080/"
    },
    "id": "oiy5cGseujl1",
    "outputId": "8c92dfb9-75b1-4b23-b9f9-f94d74896cbb"
   },
   "outputs": [
    {
     "name": "stdout",
     "output_type": "stream",
     "text": [
      "epoch:0  loss: 2.2788197994232178 accuracy:13.16 \n",
      "epoch:1  loss: 2.2667338848114014 accuracy:13.356 \n",
      "epoch:2  loss: 2.233870506286621 accuracy:15.2 \n",
      "epoch:3  loss: 2.235597610473633 accuracy:17.138 \n",
      "epoch:4  loss: 2.1977126598358154 accuracy:20.292 \n",
      "epoch:5  loss: 2.162982225418091 accuracy:22.678 \n",
      "epoch:6  loss: 2.1286163330078125 accuracy:24.848 \n",
      "epoch:7  loss: 2.0406248569488525 accuracy:26.47 \n",
      "epoch:8  loss: 2.0906991958618164 accuracy:27.712 \n",
      "epoch:9  loss: 2.040131092071533 accuracy:28.67 \n",
      "epoch:10  loss: 1.992926001548767 accuracy:29.622 \n",
      "epoch:11  loss: 2.022733211517334 accuracy:29.778 \n",
      "epoch:12  loss: 1.9821243286132812 accuracy:30.374 \n",
      "epoch:13  loss: 1.985038161277771 accuracy:30.746 \n",
      "epoch:14  loss: 2.0025837421417236 accuracy:31.028 \n",
      "epoch:15  loss: 1.8317980766296387 accuracy:31.288 \n",
      "epoch:16  loss: 1.9970746040344238 accuracy:31.642 \n",
      "epoch:17  loss: 1.9019417762756348 accuracy:31.822 \n",
      "epoch:18  loss: 1.846266508102417 accuracy:32.174 \n",
      "epoch:19  loss: 1.8290703296661377 accuracy:32.474 \n",
      "epoch:20  loss: 1.8339431285858154 accuracy:32.85 \n",
      "epoch:21  loss: 2.019822597503662 accuracy:33.094 \n",
      "epoch:22  loss: 1.9000052213668823 accuracy:33.388 \n",
      "epoch:23  loss: 1.9175503253936768 accuracy:33.57 \n",
      "epoch:24  loss: 1.8673397302627563 accuracy:33.954 \n",
      "epoch:25  loss: 1.8522990942001343 accuracy:34.112 \n",
      "epoch:26  loss: 1.8756499290466309 accuracy:34.358 \n",
      "epoch:27  loss: 1.8229337930679321 accuracy:34.614 \n",
      "epoch:28  loss: 1.8594516515731812 accuracy:34.718 \n",
      "epoch:29  loss: 1.9273136854171753 accuracy:34.988 \n",
      "epoch:30  loss: 1.8216668367385864 accuracy:35.218 \n",
      "epoch:31  loss: 1.9130635261535645 accuracy:35.372 \n",
      "epoch:32  loss: 1.6476277112960815 accuracy:35.544 \n",
      "epoch:33  loss: 1.8259036540985107 accuracy:35.82 \n",
      "epoch:34  loss: 1.7361092567443848 accuracy:35.86 \n",
      "epoch:35  loss: 1.941859483718872 accuracy:36.054 \n",
      "epoch:36  loss: 1.8831263780593872 accuracy:36.312 \n",
      "epoch:37  loss: 2.001455545425415 accuracy:36.452 \n",
      "epoch:38  loss: 1.8180285692214966 accuracy:36.592 \n",
      "epoch:39  loss: 1.74786376953125 accuracy:36.856 \n",
      "epoch:40  loss: 1.7404615879058838 accuracy:36.918 \n",
      "epoch:41  loss: 1.7502717971801758 accuracy:37.176 \n",
      "epoch:42  loss: 1.6559829711914062 accuracy:37.26 \n",
      "epoch:43  loss: 1.7476080656051636 accuracy:37.448 \n",
      "epoch:44  loss: 1.9002526998519897 accuracy:37.538 \n",
      "epoch:45  loss: 1.8643931150436401 accuracy:37.698 \n",
      "epoch:46  loss: 1.7693965435028076 accuracy:37.756 \n",
      "epoch:47  loss: 1.8603501319885254 accuracy:38.016 \n",
      "epoch:48  loss: 1.7319915294647217 accuracy:38.076 \n",
      "epoch:49  loss: 1.7112644910812378 accuracy:38.288 \n",
      "epoch:50  loss: 1.6407814025878906 accuracy:38.416 \n",
      "epoch:51  loss: 1.7768278121948242 accuracy:38.576 \n",
      "epoch:52  loss: 1.771150827407837 accuracy:38.63 \n",
      "epoch:53  loss: 1.931647539138794 accuracy:38.868 \n",
      "epoch:54  loss: 1.6942981481552124 accuracy:38.964 \n",
      "epoch:55  loss: 1.7072428464889526 accuracy:39.096 \n",
      "epoch:56  loss: 1.7133433818817139 accuracy:39.136 \n",
      "epoch:57  loss: 1.6596894264221191 accuracy:39.334 \n",
      "epoch:58  loss: 1.691643476486206 accuracy:39.46 \n",
      "epoch:59  loss: 1.696872591972351 accuracy:39.55 \n",
      "epoch:60  loss: 1.595810890197754 accuracy:39.75 \n",
      "epoch:61  loss: 1.7467408180236816 accuracy:39.848 \n",
      "epoch:62  loss: 1.7420443296432495 accuracy:39.8 \n",
      "epoch:63  loss: 1.700392484664917 accuracy:39.99 \n",
      "epoch:64  loss: 1.8067971467971802 accuracy:40.178 \n",
      "epoch:65  loss: 1.8260829448699951 accuracy:40.272 \n",
      "epoch:66  loss: 1.7886743545532227 accuracy:40.338 \n",
      "epoch:67  loss: 1.608007550239563 accuracy:40.508 \n",
      "epoch:68  loss: 1.6267791986465454 accuracy:40.582 \n",
      "epoch:69  loss: 1.6525628566741943 accuracy:40.676 \n",
      "epoch:70  loss: 1.4501087665557861 accuracy:40.878 \n",
      "epoch:71  loss: 1.6957510709762573 accuracy:40.944 \n",
      "epoch:72  loss: 1.7241052389144897 accuracy:41.11 \n",
      "epoch:73  loss: 1.5343008041381836 accuracy:41.314 \n",
      "epoch:74  loss: 1.608941912651062 accuracy:41.384 \n",
      "epoch:75  loss: 1.8431280851364136 accuracy:41.622 \n",
      "epoch:76  loss: 1.6829508543014526 accuracy:41.632 \n",
      "epoch:77  loss: 1.6310838460922241 accuracy:41.72 \n",
      "epoch:78  loss: 1.6374728679656982 accuracy:41.892 \n",
      "epoch:79  loss: 1.9661898612976074 accuracy:41.942 \n",
      "epoch:80  loss: 1.4552340507507324 accuracy:42.06 \n",
      "epoch:81  loss: 1.6172327995300293 accuracy:42.214 \n",
      "epoch:82  loss: 1.6894879341125488 accuracy:42.254 \n",
      "epoch:83  loss: 1.6293818950653076 accuracy:42.476 \n",
      "epoch:84  loss: 1.6517525911331177 accuracy:42.55 \n",
      "epoch:85  loss: 1.6161216497421265 accuracy:42.81 \n",
      "epoch:86  loss: 1.7097342014312744 accuracy:42.752 \n",
      "epoch:87  loss: 1.6196026802062988 accuracy:42.778 \n",
      "epoch:88  loss: 1.588209867477417 accuracy:42.91 \n",
      "epoch:89  loss: 1.6897257566452026 accuracy:43.06 \n",
      "epoch:90  loss: 1.4686695337295532 accuracy:43.194 \n",
      "epoch:91  loss: 1.595198631286621 accuracy:43.116 \n",
      "epoch:92  loss: 1.608818769454956 accuracy:43.354 \n",
      "epoch:93  loss: 1.6398723125457764 accuracy:43.454 \n",
      "epoch:94  loss: 1.7059017419815063 accuracy:43.572 \n",
      "epoch:95  loss: 1.603440523147583 accuracy:43.616 \n",
      "epoch:96  loss: 1.6630408763885498 accuracy:43.638 \n",
      "epoch:97  loss: 1.8111294507980347 accuracy:43.822 \n",
      "epoch:98  loss: 1.4947398900985718 accuracy:43.9 \n",
      "epoch:99  loss: 1.564886212348938 accuracy:44.042 \n"
     ]
    }
   ],
   "source": [
    "epochs = 100\n",
    "#track progress\n",
    "train_losses = []\n",
    "test_losses = []\n",
    "train_correct = []\n",
    "test_correct  = []\n",
    "\n",
    "for i in range(epochs): \n",
    "   \n",
    "    training_corr = 0\n",
    "    testing_corr = 0\n",
    "    batch_corr = 0\n",
    "    \n",
    "\n",
    "    for batch_iter, (X_train, y_train) in enumerate(train_loader): \n",
    "      batch_iter +=1\n",
    "\n",
    "      y_pred = model(X_train.view(100, -1))\n",
    "      loss = criterion(y_pred, y_train)\n",
    "      \n",
    "      predicted = torch.max(y_pred.data, 1)[1]\n",
    "      batch_corr = (predicted == y_train).sum()\n",
    "      training_corr += batch_corr\n",
    "      \n",
    "     #backward probagation \n",
    "      optimizer.zero_grad() #clear gradients\n",
    "      loss.backward()\n",
    "      optimizer.step() #optim step parameter update\n",
    "\n",
    "      if batch_iter % 500 == 0:\n",
    "        \n",
    "        accuracy = training_corr.item()*100 / (100*batch_iter) #calculate accurracy\n",
    "        print( f'epoch:{i}  loss: {loss.item()} accuracy:{accuracy} ') #print while training\n",
    "    train_losses.append(loss)\n",
    "    train_correct.append(training_corr)\n",
    "\n",
    "#start running over test data\n",
    "    with torch.no_grad():\n",
    "      \n",
    "      for batch_iter, (X_test, y_test) in enumerate(test_loader):\n",
    "        \n",
    "        y_val = model(X_test.view(500, -1))\n",
    "        \n",
    "        predicted = torch.max(y_val.data, 1)[1]\n",
    "        testing_corr += (predicted == y_test).sum()\n",
    "     \n",
    "    loss = criterion(y_val,y_test)\n",
    "    test_losses.append(loss)\n",
    "    test_correct.append(testing_corr)"
   ]
  },
  {
   "cell_type": "code",
   "execution_count": 9,
   "metadata": {
    "colab": {
     "base_uri": "https://localhost:8080/",
     "height": 282
    },
    "id": "0A-JhT-I9zBj",
    "outputId": "a08d3980-873d-4575-faee-4c7aecb17788"
   },
   "outputs": [
    {
     "data": {
      "text/plain": [
       "<matplotlib.legend.Legend at 0x7f7ff29dbc10>"
      ]
     },
     "execution_count": 9,
     "metadata": {
      "tags": []
     },
     "output_type": "execute_result"
    },
    {
     "data": {
      "image/png": "[encoded data removed]",
      "text/plain": [
       "<Figure size 432x288 with 1 Axes>"
      ]
     },
     "metadata": {
      "needs_background": "light",
      "tags": []
     },
     "output_type": "display_data"
    }
   ],
   "source": [
    "plt.plot(train_losses, label= \"Training loss\")\n",
    "plt.plot(test_losses, label= \"Testing loss\")\n",
    "plt.legend()"
   ]
  }
 ],
 "metadata": {
  "colab": {
   "collapsed_sections": [],
   "name": "Colab Full.ipynb",
   "provenance": []
  },
  "kernelspec": {
   "display_name": "Python 3",
   "language": "python",
   "name": "python3"
  },
  "language_info": {
   "codemirror_mode": {
    "name": "ipython",
    "version": 3
   },
   "file_extension": ".py",
   "mimetype": "text/x-python",
   "name": "python",
   "nbconvert_exporter": "python",
   "pygments_lexer": "ipython3",
   "version": "3.8.8"
  },
  "widgets": {
   "application/vnd.jupyter.widget-state+json": {
    "20cd7da2e842465db26bda89c7b8db47": {
     "model_module": "@jupyter-widgets/controls",
     "model_name": "ProgressStyleModel",
     "state": {
      "_model_module": "@jupyter-widgets/controls",
      "_model_module_version": "1.5.0",
      "_model_name": "ProgressStyleModel",
      "_view_count": null,
      "_view_module": "@jupyter-widgets/base",
      "_view_module_version": "1.2.0",
      "_view_name": "StyleView",
      "bar_color": null,
      "description_width": "initial"
     }
    },
    "4a444cf5260d490684c4c7d247c790cf": {
     "model_module": "@jupyter-widgets/base",
     "model_name": "LayoutModel",
     "state": {
      "_model_module": "@jupyter-widgets/base",
      "_model_module_version": "1.2.0",
      "_model_name": "LayoutModel",
      "_view_count": null,
      "_view_module": "@jupyter-widgets/base",
      "_view_module_version": "1.2.0",
      "_view_name": "LayoutView",
      "align_content": null,
      "align_items": null,
      "align_self": null,
      "border": null,
      "bottom": null,
      "display": null,
      "flex": null,
      "flex_flow": null,
      "grid_area": null,
      "grid_auto_columns": null,
      "grid_auto_flow": null,
      "grid_auto_rows": null,
      "grid_column": null,
      "grid_gap": null,
      "grid_row": null,
      "grid_template_areas": null,
      "grid_template_columns": null,
      "grid_template_rows": null,
      "height": null,
      "justify_content": null,
      "justify_items": null,
      "left": null,
      "margin": null,
      "max_height": null,
      "max_width": null,
      "min_height": null,
      "min_width": null,
      "object_fit": null,
      "object_position": null,
      "order": null,
      "overflow": null,
      "overflow_x": null,
      "overflow_y": null,
      "padding": null,
      "right": null,
      "top": null,
      "visibility": null,
      "width": null
     }
    },
    "4c5d7c15d85d48de87a8801dcc93a878": {
     "model_module": "@jupyter-widgets/controls",
     "model_name": "FloatProgressModel",
     "state": {
      "_dom_classes": [],
      "_model_module": "@jupyter-widgets/controls",
      "_model_module_version": "1.5.0",
      "_model_name": "FloatProgressModel",
      "_view_count": null,
      "_view_module": "@jupyter-widgets/controls",
      "_view_module_version": "1.5.0",
      "_view_name": "ProgressView",
      "bar_style": "success",
      "description": "",
      "description_tooltip": null,
      "layout": "IPY_MODEL_83135c37447947cbbeb35701fa22c130",
      "max": 170498071,
      "min": 0,
      "orientation": "horizontal",
      "style": "IPY_MODEL_20cd7da2e842465db26bda89c7b8db47",
      "value": 170498071
     }
    },
    "73bc7bcbaade4a16847263246d34d23e": {
     "model_module": "@jupyter-widgets/controls",
     "model_name": "HTMLModel",
     "state": {
      "_dom_classes": [],
      "_model_module": "@jupyter-widgets/controls",
      "_model_module_version": "1.5.0",
      "_model_name": "HTMLModel",
      "_view_count": null,
      "_view_module": "@jupyter-widgets/controls",
      "_view_module_version": "1.5.0",
      "_view_name": "HTMLView",
      "description": "",
      "description_tooltip": null,
      "layout": "IPY_MODEL_4a444cf5260d490684c4c7d247c790cf",
      "placeholder": "​",
      "style": "IPY_MODEL_dcf47c0ed0f84097a69daa8f733ecee5",
      "value": " 170499072/? [00:24&lt;00:00, 6878911.70it/s]"
     }
    },
    "83135c37447947cbbeb35701fa22c130": {
     "model_module": "@jupyter-widgets/base",
     "model_name": "LayoutModel",
     "state": {
      "_model_module": "@jupyter-widgets/base",
      "_model_module_version": "1.2.0",
      "_model_name": "LayoutModel",
      "_view_count": null,
      "_view_module": "@jupyter-widgets/base",
      "_view_module_version": "1.2.0",
      "_view_name": "LayoutView",
      "align_content": null,
      "align_items": null,
      "align_self": null,
      "border": null,
      "bottom": null,
      "display": null,
      "flex": null,
      "flex_flow": null,
      "grid_area": null,
      "grid_auto_columns": null,
      "grid_auto_flow": null,
      "grid_auto_rows": null,
      "grid_column": null,
      "grid_gap": null,
      "grid_row": null,
      "grid_template_areas": null,
      "grid_template_columns": null,
      "grid_template_rows": null,
      "height": null,
      "justify_content": null,
      "justify_items": null,
      "left": null,
      "margin": null,
      "max_height": null,
      "max_width": null,
      "min_height": null,
      "min_width": null,
      "object_fit": null,
      "object_position": null,
      "order": null,
      "overflow": null,
      "overflow_x": null,
      "overflow_y": null,
      "padding": null,
      "right": null,
      "top": null,
      "visibility": null,
      "width": null
     }
    },
    "b087d5ed3d024579b0efd5578bc21ff1": {
     "model_module": "@jupyter-widgets/base",
     "model_name": "LayoutModel",
     "state": {
      "_model_module": "@jupyter-widgets/base",
      "_model_module_version": "1.2.0",
      "_model_name": "LayoutModel",
      "_view_count": null,
      "_view_module": "@jupyter-widgets/base",
      "_view_module_version": "1.2.0",
      "_view_name": "LayoutView",
      "align_content": null,
      "align_items": null,
      "align_self": null,
      "border": null,
      "bottom": null,
      "display": null,
      "flex": null,
      "flex_flow": null,
      "grid_area": null,
      "grid_auto_columns": null,
      "grid_auto_flow": null,
      "grid_auto_rows": null,
      "grid_column": null,
      "grid_gap": null,
      "grid_row": null,
      "grid_template_areas": null,
      "grid_template_columns": null,
      "grid_template_rows": null,
      "height": null,
      "justify_content": null,
      "justify_items": null,
      "left": null,
      "margin": null,
      "max_height": null,
      "max_width": null,
      "min_height": null,
      "min_width": null,
      "object_fit": null,
      "object_position": null,
      "order": null,
      "overflow": null,
      "overflow_x": null,
      "overflow_y": null,
      "padding": null,
      "right": null,
      "top": null,
      "visibility": null,
      "width": null
     }
    },
    "ce651790027449f5a1dffdbad14b8eff": {
     "model_module": "@jupyter-widgets/controls",
     "model_name": "HBoxModel",
     "state": {
      "_dom_classes": [],
      "_model_module": "@jupyter-widgets/controls",
      "_model_module_version": "1.5.0",
      "_model_name": "HBoxModel",
      "_view_count": null,
      "_view_module": "@jupyter-widgets/controls",
      "_view_module_version": "1.5.0",
      "_view_name": "HBoxView",
      "box_style": "",
      "children": [
       "IPY_MODEL_4c5d7c15d85d48de87a8801dcc93a878",
       "IPY_MODEL_73bc7bcbaade4a16847263246d34d23e"
      ],
      "layout": "IPY_MODEL_b087d5ed3d024579b0efd5578bc21ff1"
     }
    },
    "dcf47c0ed0f84097a69daa8f733ecee5": {
     "model_module": "@jupyter-widgets/controls",
     "model_name": "DescriptionStyleModel",
     "state": {
      "_model_module": "@jupyter-widgets/controls",
      "_model_module_version": "1.5.0",
      "_model_name": "DescriptionStyleModel",
      "_view_count": null,
      "_view_module": "@jupyter-widgets/base",
      "_view_module_version": "1.2.0",
      "_view_name": "StyleView",
      "description_width": ""
     }
    }
   }
  }
 },
 "nbformat": 4,
 "nbformat_minor": 1
}
