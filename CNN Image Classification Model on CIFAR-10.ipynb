{
  "nbformat": 4,
  "nbformat_minor": 5,
  "metadata": {
    "kernelspec": {
      "display_name": "Python 3",
      "language": "python",
      "name": "python3"
    },
    "language_info": {
      "codemirror_mode": {
        "name": "ipython",
        "version": 3
      },
      "file_extension": ".py",
      "mimetype": "text/x-python",
      "name": "python",
      "nbconvert_exporter": "python",
      "pygments_lexer": "ipython3",
      "version": "3.8.8"
    },
    "colab": {
      "name": "Colab CNN.ipynb",
      "provenance": []
    },
    "accelerator": "GPU",
    "widgets": {
      "application/vnd.jupyter.widget-state+json": {
        "778f8dd4e5fe42fcbaba8aae88d87a52": {
          "model_module": "@jupyter-widgets/controls",
          "model_name": "HBoxModel",
          "state": {
            "_view_name": "HBoxView",
            "_dom_classes": [],
            "_model_name": "HBoxModel",
            "_view_module": "@jupyter-widgets/controls",
            "_model_module_version": "1.5.0",
            "_view_count": null,
            "_view_module_version": "1.5.0",
            "box_style": "",
            "layout": "IPY_MODEL_507e872ff2e04d53bf54cd1f0ab67387",
            "_model_module": "@jupyter-widgets/controls",
            "children": [
              "IPY_MODEL_1977ad9aae8c4cb8880c40af40ea2a16",
              "IPY_MODEL_5326d0a19fe243da94257987749c7f60"
            ]
          }
        },
        "507e872ff2e04d53bf54cd1f0ab67387": {
          "model_module": "@jupyter-widgets/base",
          "model_name": "LayoutModel",
          "state": {
            "_view_name": "LayoutView",
            "grid_template_rows": null,
            "right": null,
            "justify_content": null,
            "_view_module": "@jupyter-widgets/base",
            "overflow": null,
            "_model_module_version": "1.2.0",
            "_view_count": null,
            "flex_flow": null,
            "width": null,
            "min_width": null,
            "border": null,
            "align_items": null,
            "bottom": null,
            "_model_module": "@jupyter-widgets/base",
            "top": null,
            "grid_column": null,
            "overflow_y": null,
            "overflow_x": null,
            "grid_auto_flow": null,
            "grid_area": null,
            "grid_template_columns": null,
            "flex": null,
            "_model_name": "LayoutModel",
            "justify_items": null,
            "grid_row": null,
            "max_height": null,
            "align_content": null,
            "visibility": null,
            "align_self": null,
            "height": null,
            "min_height": null,
            "padding": null,
            "grid_auto_rows": null,
            "grid_gap": null,
            "max_width": null,
            "order": null,
            "_view_module_version": "1.2.0",
            "grid_template_areas": null,
            "object_position": null,
            "object_fit": null,
            "grid_auto_columns": null,
            "margin": null,
            "display": null,
            "left": null
          }
        },
        "1977ad9aae8c4cb8880c40af40ea2a16": {
          "model_module": "@jupyter-widgets/controls",
          "model_name": "FloatProgressModel",
          "state": {
            "_view_name": "ProgressView",
            "style": "IPY_MODEL_0c05e772a1bc43a9a76cd650060343d0",
            "_dom_classes": [],
            "description": "",
            "_model_name": "FloatProgressModel",
            "bar_style": "success",
            "max": 170498071,
            "_view_module": "@jupyter-widgets/controls",
            "_model_module_version": "1.5.0",
            "value": 170498071,
            "_view_count": null,
            "_view_module_version": "1.5.0",
            "orientation": "horizontal",
            "min": 0,
            "description_tooltip": null,
            "_model_module": "@jupyter-widgets/controls",
            "layout": "IPY_MODEL_6830eb603fd54d6b941568d571a0339c"
          }
        },
        "5326d0a19fe243da94257987749c7f60": {
          "model_module": "@jupyter-widgets/controls",
          "model_name": "HTMLModel",
          "state": {
            "_view_name": "HTMLView",
            "style": "IPY_MODEL_b3a22a5ee5d64e9492e69faac1a2fca2",
            "_dom_classes": [],
            "description": "",
            "_model_name": "HTMLModel",
            "placeholder": "​",
            "_view_module": "@jupyter-widgets/controls",
            "_model_module_version": "1.5.0",
            "value": " 170499072/? [35:41&lt;00:00, 79616.44it/s]",
            "_view_count": null,
            "_view_module_version": "1.5.0",
            "description_tooltip": null,
            "_model_module": "@jupyter-widgets/controls",
            "layout": "IPY_MODEL_e69e8bd97f4045bb8e8c54f659103b57"
          }
        },
        "0c05e772a1bc43a9a76cd650060343d0": {
          "model_module": "@jupyter-widgets/controls",
          "model_name": "ProgressStyleModel",
          "state": {
            "_view_name": "StyleView",
            "_model_name": "ProgressStyleModel",
            "description_width": "initial",
            "_view_module": "@jupyter-widgets/base",
            "_model_module_version": "1.5.0",
            "_view_count": null,
            "_view_module_version": "1.2.0",
            "bar_color": null,
            "_model_module": "@jupyter-widgets/controls"
          }
        },
        "6830eb603fd54d6b941568d571a0339c": {
          "model_module": "@jupyter-widgets/base",
          "model_name": "LayoutModel",
          "state": {
            "_view_name": "LayoutView",
            "grid_template_rows": null,
            "right": null,
            "justify_content": null,
            "_view_module": "@jupyter-widgets/base",
            "overflow": null,
            "_model_module_version": "1.2.0",
            "_view_count": null,
            "flex_flow": null,
            "width": null,
            "min_width": null,
            "border": null,
            "align_items": null,
            "bottom": null,
            "_model_module": "@jupyter-widgets/base",
            "top": null,
            "grid_column": null,
            "overflow_y": null,
            "overflow_x": null,
            "grid_auto_flow": null,
            "grid_area": null,
            "grid_template_columns": null,
            "flex": null,
            "_model_name": "LayoutModel",
            "justify_items": null,
            "grid_row": null,
            "max_height": null,
            "align_content": null,
            "visibility": null,
            "align_self": null,
            "height": null,
            "min_height": null,
            "padding": null,
            "grid_auto_rows": null,
            "grid_gap": null,
            "max_width": null,
            "order": null,
            "_view_module_version": "1.2.0",
            "grid_template_areas": null,
            "object_position": null,
            "object_fit": null,
            "grid_auto_columns": null,
            "margin": null,
            "display": null,
            "left": null
          }
        },
        "b3a22a5ee5d64e9492e69faac1a2fca2": {
          "model_module": "@jupyter-widgets/controls",
          "model_name": "DescriptionStyleModel",
          "state": {
            "_view_name": "StyleView",
            "_model_name": "DescriptionStyleModel",
            "description_width": "",
            "_view_module": "@jupyter-widgets/base",
            "_model_module_version": "1.5.0",
            "_view_count": null,
            "_view_module_version": "1.2.0",
            "_model_module": "@jupyter-widgets/controls"
          }
        },
        "e69e8bd97f4045bb8e8c54f659103b57": {
          "model_module": "@jupyter-widgets/base",
          "model_name": "LayoutModel",
          "state": {
            "_view_name": "LayoutView",
            "grid_template_rows": null,
            "right": null,
            "justify_content": null,
            "_view_module": "@jupyter-widgets/base",
            "overflow": null,
            "_model_module_version": "1.2.0",
            "_view_count": null,
            "flex_flow": null,
            "width": null,
            "min_width": null,
            "border": null,
            "align_items": null,
            "bottom": null,
            "_model_module": "@jupyter-widgets/base",
            "top": null,
            "grid_column": null,
            "overflow_y": null,
            "overflow_x": null,
            "grid_auto_flow": null,
            "grid_area": null,
            "grid_template_columns": null,
            "flex": null,
            "_model_name": "LayoutModel",
            "justify_items": null,
            "grid_row": null,
            "max_height": null,
            "align_content": null,
            "visibility": null,
            "align_self": null,
            "height": null,
            "min_height": null,
            "padding": null,
            "grid_auto_rows": null,
            "grid_gap": null,
            "max_width": null,
            "order": null,
            "_view_module_version": "1.2.0",
            "grid_template_areas": null,
            "object_position": null,
            "object_fit": null,
            "grid_auto_columns": null,
            "margin": null,
            "display": null,
            "left": null
          }
        }
      }
    }
  },
  "cells": [
    {
      "cell_type": "markdown",
      "metadata": {
        "id": "5e3def0b"
      },
      "source": [
        "## Introduction to Neural Network Based Deep Learning"
      ],
      "id": "5e3def0b"
    },
    {
      "cell_type": "markdown",
      "metadata": {
        "id": "b3a7bfc1"
      },
      "source": [
        "### CNN on Cifar10 Dataset"
      ],
      "id": "b3a7bfc1"
    },
    {
      "cell_type": "markdown",
      "metadata": {
        "id": "cdd7dd14"
      },
      "source": [
        "#### Importing Libraries"
      ],
      "id": "cdd7dd14"
    },
    {
      "cell_type": "code",
      "metadata": {
        "id": "df865dea"
      },
      "source": [
        "import torch\n",
        "import torch.nn as nn\n",
        "import torch.nn.functional as F\n",
        "import torch.optim as optim\n",
        "import torchvision\n",
        "import torchvision.datasets as datasets\n",
        "import torchvision.transforms as transforms\n",
        "from torch.utils.data import DataLoader, TensorDataset\n",
        "import matplotlib.pyplot as plt\n",
        "import numpy as np"
      ],
      "id": "df865dea",
      "execution_count": 1,
      "outputs": []
    },
    {
      "cell_type": "markdown",
      "metadata": {
        "id": "7990e117"
      },
      "source": [
        "#### Data Preprocessing"
      ],
      "id": "7990e117"
    },
    {
      "cell_type": "code",
      "metadata": {
        "colab": {
          "base_uri": "https://localhost:8080/",
          "height": 117,
          "referenced_widgets": [
            "778f8dd4e5fe42fcbaba8aae88d87a52",
            "507e872ff2e04d53bf54cd1f0ab67387",
            "1977ad9aae8c4cb8880c40af40ea2a16",
            "5326d0a19fe243da94257987749c7f60",
            "0c05e772a1bc43a9a76cd650060343d0",
            "6830eb603fd54d6b941568d571a0339c",
            "b3a22a5ee5d64e9492e69faac1a2fca2",
            "e69e8bd97f4045bb8e8c54f659103b57"
          ]
        },
        "id": "27c13723",
        "outputId": "c00c4e00-ce00-44d8-fd41-8c511969176f"
      },
      "source": [
        "transform = transforms.Compose([transforms.ToTensor(),\n",
        "                                transforms.Normalize((0.5, 0.5, 0.5), (0.5, 0.5, 0.5))]) #transform & normalize data\n",
        "batch_size = 16\n",
        "train_set = torchvision.datasets.CIFAR10(root='./data', train=True,download=True, transform=transform)\n",
        "train_loader = DataLoader(train_set, batch_size=batch_size,shuffle=True, num_workers=2)\n",
        "test_set = torchvision.datasets.CIFAR10(root='./data', train=False,download=True, transform=transform)\n",
        "test_loader = DataLoader(test_set, batch_size=batch_size,shuffle=False, num_workers=2)\n",
        "\n",
        "classes = ('plane', 'car', 'bird', 'cat',\n",
        "           'deer', 'dog', 'frog', 'horse', 'ship', 'truck') #set classes"
      ],
      "id": "27c13723",
      "execution_count": 2,
      "outputs": [
        {
          "output_type": "stream",
          "text": [
            "Downloading https://www.cs.toronto.edu/~kriz/cifar-10-python.tar.gz to ./data/cifar-10-python.tar.gz\n"
          ],
          "name": "stdout"
        },
        {
          "output_type": "display_data",
          "data": {
            "application/vnd.jupyter.widget-view+json": {
              "model_id": "778f8dd4e5fe42fcbaba8aae88d87a52",
              "version_minor": 0,
              "version_major": 2
            },
            "text/plain": [
              "HBox(children=(FloatProgress(value=0.0, max=170498071.0), HTML(value='')))"
            ]
          },
          "metadata": {
            "tags": []
          }
        },
        {
          "output_type": "stream",
          "text": [
            "\n",
            "Extracting ./data/cifar-10-python.tar.gz to ./data\n",
            "Files already downloaded and verified\n"
          ],
          "name": "stdout"
        }
      ]
    },
    {
      "cell_type": "code",
      "metadata": {
        "id": "f662bf4c",
        "colab": {
          "base_uri": "https://localhost:8080/"
        },
        "outputId": "b3bf354b-ccd7-49d8-ba46-e3ddea7c2aee"
      },
      "source": [
        "class CNN(nn.Module):\n",
        "    def __init__(self):\n",
        "        super().__init__()\n",
        "        self.conv1 = nn.Conv2d(3, 6, 5)\n",
        "        self.pool = nn.MaxPool2d(2, 2) #outputs 6 channels\n",
        "        self.conv2 = nn.Conv2d(6, 16, 5) \n",
        "        self.fc1 = nn.Linear(16 * 5 * 5, 120) #5*5 dimension of conv2d\n",
        "        self.fc2 = nn.Linear(120, 84)\n",
        "        self.fc3 = nn.Linear(84, 10)\n",
        "\n",
        "    def forward(self, x):\n",
        "        x = self.pool(F.relu(self.conv1(x)))\n",
        "        x = self.pool(F.relu(self.conv2(x)))\n",
        "        x = torch.flatten(x, 1) \n",
        "        x = F.relu(self.fc1(x))\n",
        "        x = F.relu(self.fc2(x))\n",
        "        x = self.fc3(x) #no activation needed here\n",
        "        return x\n",
        "\n",
        "\n",
        "cnn = CNN()\n",
        "cnn"
      ],
      "id": "f662bf4c",
      "execution_count": 3,
      "outputs": [
        {
          "output_type": "execute_result",
          "data": {
            "text/plain": [
              "CNN(\n",
              "  (conv1): Conv2d(3, 6, kernel_size=(5, 5), stride=(1, 1))\n",
              "  (pool): MaxPool2d(kernel_size=2, stride=2, padding=0, dilation=1, ceil_mode=False)\n",
              "  (conv2): Conv2d(6, 16, kernel_size=(5, 5), stride=(1, 1))\n",
              "  (fc1): Linear(in_features=400, out_features=120, bias=True)\n",
              "  (fc2): Linear(in_features=120, out_features=84, bias=True)\n",
              "  (fc3): Linear(in_features=84, out_features=10, bias=True)\n",
              ")"
            ]
          },
          "metadata": {
            "tags": []
          },
          "execution_count": 3
        }
      ]
    },
    {
      "cell_type": "code",
      "metadata": {
        "id": "2130fa17"
      },
      "source": [
        "\n",
        "criterion = nn.CrossEntropyLoss()\n",
        "optimizer = optim.SGD(cnn.parameters(), lr=0.0001, momentum=0.9)\n"
      ],
      "id": "2130fa17",
      "execution_count": 4,
      "outputs": []
    },
    {
      "cell_type": "code",
      "metadata": {
        "colab": {
          "base_uri": "https://localhost:8080/"
        },
        "id": "6e7a9c18",
        "outputId": "914fcc8d-0428-4e36-882c-af2b568128b8"
      },
      "source": [
        "for epoch in range(100):  # iterate over each epoch\n",
        "\n",
        "    running_loss = 0.0\n",
        "    for i, data in enumerate(train_loader, 0):\n",
        "        inputs, labels = data\n",
        "        optimizer.zero_grad() #zero the gradients\n",
        "        outputs =cnn(inputs)\n",
        "        loss = criterion(outputs, labels)\n",
        "        loss.backward()\n",
        "        optimizer.step()\n",
        "        running_loss += loss.item() #print loss\n",
        "        if i % 2000 == 1999:    # print every 2000 mini-batches\n",
        "            print('[%d, %3d] loss: %.3f' %\n",
        "                  (epoch + 1, i + 1, running_loss / 2000))\n",
        "            running_loss = 0.0\n",
        "\n",
        "print('....Done Training')\n",
        "PATH = './cifar_net.pth'\n",
        "torch.save(cnn.state_dict(), PATH)"
      ],
      "id": "6e7a9c18",
      "execution_count": 5,
      "outputs": [
        {
          "output_type": "stream",
          "text": [
            "/usr/local/lib/python3.7/dist-packages/torch/nn/functional.py:718: UserWarning: Named tensors and all their associated APIs are an experimental feature and subject to change. Please do not use them for anything important until they are released as stable. (Triggered internally at  /pytorch/c10/core/TensorImpl.h:1156.)\n",
            "  return torch.max_pool2d(input, kernel_size, stride, padding, dilation, ceil_mode)\n"
          ],
          "name": "stderr"
        },
        {
          "output_type": "stream",
          "text": [
            "[1, 2000] loss: 2.302\n",
            "[2, 2000] loss: 2.291\n",
            "[3, 2000] loss: 2.208\n",
            "[4, 2000] loss: 2.102\n",
            "[5, 2000] loss: 2.018\n",
            "[6, 2000] loss: 1.899\n",
            "[7, 2000] loss: 1.809\n",
            "[8, 2000] loss: 1.731\n",
            "[9, 2000] loss: 1.670\n",
            "[10, 2000] loss: 1.625\n",
            "[11, 2000] loss: 1.589\n",
            "[12, 2000] loss: 1.553\n",
            "[13, 2000] loss: 1.517\n",
            "[14, 2000] loss: 1.489\n",
            "[15, 2000] loss: 1.464\n",
            "[16, 2000] loss: 1.438\n",
            "[17, 2000] loss: 1.414\n",
            "[18, 2000] loss: 1.396\n",
            "[19, 2000] loss: 1.367\n",
            "[20, 2000] loss: 1.347\n",
            "[21, 2000] loss: 1.332\n",
            "[22, 2000] loss: 1.315\n",
            "[23, 2000] loss: 1.298\n",
            "[24, 2000] loss: 1.279\n",
            "[25, 2000] loss: 1.262\n",
            "[26, 2000] loss: 1.252\n",
            "[27, 2000] loss: 1.230\n",
            "[28, 2000] loss: 1.210\n",
            "[29, 2000] loss: 1.194\n",
            "[30, 2000] loss: 1.187\n",
            "[31, 2000] loss: 1.170\n",
            "[32, 2000] loss: 1.154\n",
            "[33, 2000] loss: 1.146\n",
            "[34, 2000] loss: 1.136\n",
            "[35, 2000] loss: 1.128\n",
            "[36, 2000] loss: 1.108\n",
            "[37, 2000] loss: 1.104\n",
            "[38, 2000] loss: 1.099\n",
            "[39, 2000] loss: 1.084\n",
            "[40, 2000] loss: 1.078\n",
            "[41, 2000] loss: 1.063\n",
            "[42, 2000] loss: 1.050\n",
            "[43, 2000] loss: 1.046\n",
            "[44, 2000] loss: 1.035\n",
            "[45, 2000] loss: 1.026\n",
            "[46, 2000] loss: 1.020\n",
            "[47, 2000] loss: 1.004\n",
            "[48, 2000] loss: 1.006\n",
            "[49, 2000] loss: 0.988\n",
            "[50, 2000] loss: 0.980\n",
            "[51, 2000] loss: 0.975\n",
            "[52, 2000] loss: 0.967\n",
            "[53, 2000] loss: 0.959\n",
            "[54, 2000] loss: 0.947\n",
            "[55, 2000] loss: 0.941\n",
            "[56, 2000] loss: 0.936\n",
            "[57, 2000] loss: 0.933\n",
            "[58, 2000] loss: 0.918\n",
            "[59, 2000] loss: 0.911\n",
            "[60, 2000] loss: 0.902\n",
            "[61, 2000] loss: 0.902\n",
            "[62, 2000] loss: 0.894\n",
            "[63, 2000] loss: 0.887\n",
            "[64, 2000] loss: 0.879\n",
            "[65, 2000] loss: 0.861\n",
            "[66, 2000] loss: 0.863\n",
            "[67, 2000] loss: 0.854\n",
            "[68, 2000] loss: 0.854\n",
            "[69, 2000] loss: 0.837\n",
            "[70, 2000] loss: 0.831\n",
            "[71, 2000] loss: 0.832\n",
            "[72, 2000] loss: 0.822\n",
            "[73, 2000] loss: 0.819\n",
            "[74, 2000] loss: 0.806\n",
            "[75, 2000] loss: 0.807\n",
            "[76, 2000] loss: 0.795\n",
            "[77, 2000] loss: 0.790\n",
            "[78, 2000] loss: 0.787\n",
            "[79, 2000] loss: 0.774\n",
            "[80, 2000] loss: 0.774\n",
            "[81, 2000] loss: 0.764\n",
            "[82, 2000] loss: 0.761\n",
            "[83, 2000] loss: 0.751\n",
            "[84, 2000] loss: 0.743\n",
            "[85, 2000] loss: 0.743\n",
            "[86, 2000] loss: 0.733\n",
            "[87, 2000] loss: 0.729\n",
            "[88, 2000] loss: 0.728\n",
            "[89, 2000] loss: 0.716\n",
            "[90, 2000] loss: 0.708\n",
            "[91, 2000] loss: 0.710\n",
            "[92, 2000] loss: 0.704\n",
            "[93, 2000] loss: 0.696\n",
            "[94, 2000] loss: 0.693\n",
            "[95, 2000] loss: 0.688\n",
            "[96, 2000] loss: 0.687\n",
            "[97, 2000] loss: 0.677\n",
            "[98, 2000] loss: 0.666\n",
            "[99, 2000] loss: 0.660\n",
            "[100, 2000] loss: 0.661\n",
            "....Done Training\n"
          ],
          "name": "stdout"
        }
      ]
    },
    {
      "cell_type": "code",
      "metadata": {
        "colab": {
          "base_uri": "https://localhost:8080/"
        },
        "id": "6f34c832",
        "outputId": "eb0014ae-b7d4-4321-953d-6ff743ad4e39"
      },
      "source": [
        "\n",
        "cnn.load_state_dict(torch.load(PATH))\n"
      ],
      "id": "6f34c832",
      "execution_count": 7,
      "outputs": [
        {
          "output_type": "execute_result",
          "data": {
            "text/plain": [
              "<All keys matched successfully>"
            ]
          },
          "metadata": {
            "tags": []
          },
          "execution_count": 7
        }
      ]
    },
    {
      "cell_type": "code",
      "metadata": {
        "colab": {
          "base_uri": "https://localhost:8080/",
          "height": 137
        },
        "id": "8be8fcc9",
        "outputId": "93d84854-e977-4778-cd32-bf49e3a9d76b"
      },
      "source": [
        "dataiter = iter(test_loader)\n",
        "images, labels = dataiter.next()\n",
        "_, predicted = torch.max(outputs, 1)\n",
        "def imshow(img): #normalize and show sample\n",
        "    img = img / 2 + 0.5  \n",
        "    npimg = img.numpy()\n",
        "    plt.imshow(np.transpose(npimg, (1, 2, 0)))\n",
        "    plt.show()\n",
        "# fetch images to train\n",
        "dataiter = iter(train_loader)\n",
        "images, labels = dataiter.next()\n",
        "imshow(torchvision.utils.make_grid(images))# print labels\n",
        "\n",
        "outputs = cnn(images)"
      ],
      "id": "8be8fcc9",
      "execution_count": 8,
      "outputs": [
        {
          "output_type": "display_data",
          "data": {
            "image/png": "[encoded data removed]",
            "text/plain": [
              "<Figure size 432x288 with 1 Axes>"
            ]
          },
          "metadata": {
            "tags": [],
            "needs_background": "light"
          }
        }
      ]
    },
    {
      "cell_type": "code",
      "metadata": {
        "colab": {
          "base_uri": "https://localhost:8080/"
        },
        "id": "b0187cf0",
        "outputId": "dc7b6bb7-85c5-4e59-c0db-db2f1883739a"
      },
      "source": [
        "correct = 0\n",
        "total = 0\n",
        "with torch.no_grad():\n",
        "    for data in test_loader:\n",
        "        images, labels = data\n",
        "        outputs = cnn(images)\n",
        "        _, predicted = torch.max(outputs.data, 1)\n",
        "        total += labels.size(0)\n",
        "        correct += (predicted == labels).sum().item()\n",
        "\n",
        "print('Accuracy: %d %%' % (\n",
        "    100 * correct / total))\n"
      ],
      "id": "b0187cf0",
      "execution_count": 9,
      "outputs": [
        {
          "output_type": "stream",
          "text": [
            "Accuracy: 64 %\n"
          ],
          "name": "stdout"
        }
      ]
    },
    {
      "cell_type": "code",
      "metadata": {
        "colab": {
          "base_uri": "https://localhost:8080/"
        },
        "id": "u8y4ZCBjpZmF",
        "outputId": "14db03e9-734b-40ba-ab48-8e1ecf9f08ed"
      },
      "source": [
        "correct_pred = {classname: 0 for classname in classes}\n",
        "total_pred = {classname: 0 for classname in classes}\n",
        "\n",
        "with torch.no_grad():\n",
        "    for data in test_loader:\n",
        "        images, labels = data    \n",
        "        outputs = cnn(images)    \n",
        "        _, predictions = torch.max(outputs, 1)\n",
        "        # collect the correct predictions for each class\n",
        "        for label, prediction in zip(labels, predictions):\n",
        "            if label == prediction:\n",
        "                correct_pred[classes[label]] += 1\n",
        "            total_pred[classes[label]] += 1\n",
        "\n",
        "  \n",
        "# print accuracy for each class\n",
        "for classname, correct_count in correct_pred.items():\n",
        "    accuracy = 100 * float(correct_count) / total_pred[classname]\n",
        "    print(\"Accuracy for class {:5s} is: {:.1f} %\".format(classname, \n",
        "                                                   accuracy))\n"
      ],
      "id": "u8y4ZCBjpZmF",
      "execution_count": 10,
      "outputs": [
        {
          "output_type": "stream",
          "text": [
            "Accuracy for class plane is: 69.7 %\n",
            "Accuracy for class car   is: 78.5 %\n",
            "Accuracy for class bird  is: 46.2 %\n",
            "Accuracy for class cat   is: 48.8 %\n",
            "Accuracy for class deer  is: 55.9 %\n",
            "Accuracy for class dog   is: 48.8 %\n",
            "Accuracy for class frog  is: 76.5 %\n",
            "Accuracy for class horse is: 73.6 %\n",
            "Accuracy for class ship  is: 74.8 %\n",
            "Accuracy for class truck is: 70.9 %\n"
          ],
          "name": "stdout"
        }
      ]
    }
  ]
}